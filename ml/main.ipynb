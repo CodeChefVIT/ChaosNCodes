{
 "cells": [
  {
   "cell_type": "code",
   "execution_count": 159,
   "metadata": {},
   "outputs": [],
   "source": [
    "import numpy as np\n",
    "import pandas as pd\n",
    "import matplotlib.pyplot as plt\n",
    "from sklearn import linear_model\n",
    "from firebase import firebase"
   ]
  },
  {
   "cell_type": "code",
   "execution_count": 160,
   "metadata": {},
   "outputs": [
    {
     "name": "stdout",
     "output_type": "stream",
     "text": [
      "75 35 2019\n"
     ]
    }
   ],
   "source": [
    "firebase = firebase.FirebaseApplication('https://ihack-70e99.firebaseio.com/')\n",
    "moisture = firebase.get('/Moisture',None)\n",
    "temperature = firebase.get('/Temperature',None)\n",
    "pred = firebase.get('/Year',None)\n",
    "\n",
    "print(moisture, temperature, pred)"
   ]
  },
  {
   "cell_type": "code",
   "execution_count": 161,
   "metadata": {},
   "outputs": [],
   "source": [
    "df=pd.read_csv(\"crop.csv\")"
   ]
  },
  {
   "cell_type": "code",
   "execution_count": 162,
   "metadata": {},
   "outputs": [
    {
     "data": {
      "text/html": [
       "<div>\n",
       "<style scoped>\n",
       "    .dataframe tbody tr th:only-of-type {\n",
       "        vertical-align: middle;\n",
       "    }\n",
       "\n",
       "    .dataframe tbody tr th {\n",
       "        vertical-align: top;\n",
       "    }\n",
       "\n",
       "    .dataframe thead th {\n",
       "        text-align: right;\n",
       "    }\n",
       "</style>\n",
       "<table border=\"1\" class=\"dataframe\">\n",
       "  <thead>\n",
       "    <tr style=\"text-align: right;\">\n",
       "      <th></th>\n",
       "      <th>crop</th>\n",
       "      <th>year</th>\n",
       "      <th>cost</th>\n",
       "    </tr>\n",
       "  </thead>\n",
       "  <tbody>\n",
       "    <tr>\n",
       "      <th>0</th>\n",
       "      <td>WHEAT</td>\n",
       "      <td>2004</td>\n",
       "      <td>5.0</td>\n",
       "    </tr>\n",
       "    <tr>\n",
       "      <th>1</th>\n",
       "      <td>WHEAT</td>\n",
       "      <td>2005</td>\n",
       "      <td>5.5</td>\n",
       "    </tr>\n",
       "    <tr>\n",
       "      <th>2</th>\n",
       "      <td>WHEAT</td>\n",
       "      <td>2006</td>\n",
       "      <td>8.0</td>\n",
       "    </tr>\n",
       "    <tr>\n",
       "      <th>3</th>\n",
       "      <td>WHEAT</td>\n",
       "      <td>2007</td>\n",
       "      <td>7.5</td>\n",
       "    </tr>\n",
       "    <tr>\n",
       "      <th>4</th>\n",
       "      <td>WHEAT</td>\n",
       "      <td>2008</td>\n",
       "      <td>8.5</td>\n",
       "    </tr>\n",
       "  </tbody>\n",
       "</table>\n",
       "</div>"
      ],
      "text/plain": [
       "    crop  year  cost\n",
       "0  WHEAT  2004   5.0\n",
       "1  WHEAT  2005   5.5\n",
       "2  WHEAT  2006   8.0\n",
       "3  WHEAT  2007   7.5\n",
       "4  WHEAT  2008   8.5"
      ]
     },
     "execution_count": 162,
     "metadata": {},
     "output_type": "execute_result"
    }
   ],
   "source": [
    "df.head()"
   ]
  },
  {
   "cell_type": "code",
   "execution_count": 163,
   "metadata": {},
   "outputs": [
    {
     "data": {
      "text/html": [
       "<div>\n",
       "<style scoped>\n",
       "    .dataframe tbody tr th:only-of-type {\n",
       "        vertical-align: middle;\n",
       "    }\n",
       "\n",
       "    .dataframe tbody tr th {\n",
       "        vertical-align: top;\n",
       "    }\n",
       "\n",
       "    .dataframe thead th {\n",
       "        text-align: right;\n",
       "    }\n",
       "</style>\n",
       "<table border=\"1\" class=\"dataframe\">\n",
       "  <thead>\n",
       "    <tr style=\"text-align: right;\">\n",
       "      <th></th>\n",
       "      <th>crop</th>\n",
       "      <th>year</th>\n",
       "      <th>cost</th>\n",
       "    </tr>\n",
       "  </thead>\n",
       "  <tbody>\n",
       "    <tr>\n",
       "      <th>123</th>\n",
       "      <td>TEA</td>\n",
       "      <td>2015</td>\n",
       "      <td>320.0</td>\n",
       "    </tr>\n",
       "    <tr>\n",
       "      <th>124</th>\n",
       "      <td>TEA</td>\n",
       "      <td>2016</td>\n",
       "      <td>330.0</td>\n",
       "    </tr>\n",
       "    <tr>\n",
       "      <th>125</th>\n",
       "      <td>TEA</td>\n",
       "      <td>2017</td>\n",
       "      <td>350.0</td>\n",
       "    </tr>\n",
       "    <tr>\n",
       "      <th>126</th>\n",
       "      <td>TEA</td>\n",
       "      <td>2018</td>\n",
       "      <td>380.0</td>\n",
       "    </tr>\n",
       "    <tr>\n",
       "      <th>127</th>\n",
       "      <td>TEA</td>\n",
       "      <td>2019</td>\n",
       "      <td>400.0</td>\n",
       "    </tr>\n",
       "  </tbody>\n",
       "</table>\n",
       "</div>"
      ],
      "text/plain": [
       "    crop  year   cost\n",
       "123  TEA  2015  320.0\n",
       "124  TEA  2016  330.0\n",
       "125  TEA  2017  350.0\n",
       "126  TEA  2018  380.0\n",
       "127  TEA  2019  400.0"
      ]
     },
     "execution_count": 163,
     "metadata": {},
     "output_type": "execute_result"
    }
   ],
   "source": [
    "df.tail()"
   ]
  },
  {
   "cell_type": "code",
   "execution_count": 164,
   "metadata": {},
   "outputs": [],
   "source": [
    "g=df.groupby('crop')"
   ]
  },
  {
   "cell_type": "code",
   "execution_count": 165,
   "metadata": {},
   "outputs": [
    {
     "name": "stdout",
     "output_type": "stream",
     "text": [
      "<pandas.core.groupby.groupby.DataFrameGroupBy object at 0x00000207CC5B3CC0>\n"
     ]
    }
   ],
   "source": [
    "print(g)"
   ]
  },
  {
   "cell_type": "code",
   "execution_count": 166,
   "metadata": {},
   "outputs": [
    {
     "name": "stdout",
     "output_type": "stream",
     "text": [
      "COTTON\n",
      "      crop  year   cost\n",
      "48  COTTON  2004  13.00\n",
      "49  COTTON  2005  15.50\n",
      "50  COTTON  2006  17.22\n",
      "51  COTTON  2007  18.00\n",
      "52  COTTON  2008  19.50\n",
      "53  COTTON  2009  21.00\n",
      "54  COTTON  2010  21.50\n",
      "55  COTTON  2011  22.00\n",
      "56  COTTON  2012  23.76\n",
      "57  COTTON  2013  25.00\n",
      "58  COTTON  2014  23.00\n",
      "59  COTTON  2015  26.50\n",
      "60  COTTON  2016  22.00\n",
      "61  COTTON  2017  27.00\n",
      "62  COTTON  2018  26.00\n",
      "63  COTTON  2019  28.00\n",
      "MAIZE\n",
      "     crop  year   cost\n",
      "16  MAIZE  2004   5.00\n",
      "17  MAIZE  2005   7.00\n",
      "18  MAIZE  2006   6.25\n",
      "19  MAIZE  2007   7.00\n",
      "20  MAIZE  2008   8.00\n",
      "21  MAIZE  2009   7.20\n",
      "22  MAIZE  2010  10.00\n",
      "23  MAIZE  2011  10.00\n",
      "24  MAIZE  2012  11.00\n",
      "25  MAIZE  2013  12.50\n",
      "26  MAIZE  2014  13.00\n",
      "27  MAIZE  2015  14.00\n",
      "28  MAIZE  2016  12.50\n",
      "29  MAIZE  2017  11.00\n",
      "30  MAIZE  2018  18.00\n",
      "31  MAIZE  2019  20.00\n",
      "ONION\n",
      "      crop  year  cost\n",
      "96   ONION  2004   5.0\n",
      "97   ONION  2005   7.0\n",
      "98   ONION  2006   5.0\n",
      "99   ONION  2007  10.0\n",
      "100  ONION  2008  12.0\n",
      "101  ONION  2009  14.5\n",
      "102  ONION  2010  15.0\n",
      "103  ONION  2011  17.0\n",
      "104  ONION  2012  12.0\n",
      "105  ONION  2013  14.0\n",
      "106  ONION  2014  18.0\n",
      "107  ONION  2015  16.0\n",
      "108  ONION  2016  18.0\n",
      "109  ONION  2017  20.0\n",
      "110  ONION  2018  18.0\n",
      "111  ONION  2019  22.0\n",
      "PEPPER\n",
      "      crop  year   cost\n",
      "64  PEPPER  2004  400.0\n",
      "65  PEPPER  2005  420.0\n",
      "66  PEPPER  2006  480.0\n",
      "67  PEPPER  2007  410.0\n",
      "68  PEPPER  2008  520.0\n",
      "69  PEPPER  2009  540.0\n",
      "70  PEPPER  2010  570.0\n",
      "71  PEPPER  2011  600.0\n",
      "72  PEPPER  2012  610.0\n",
      "73  PEPPER  2013  605.0\n",
      "74  PEPPER  2014  630.0\n",
      "75  PEPPER  2015  670.0\n",
      "76  PEPPER  2016  690.0\n",
      "77  PEPPER  2017  710.0\n",
      "78  PEPPER  2018  750.0\n",
      "79  PEPPER  2019  800.0\n",
      "PULSES\n",
      "      crop  year   cost\n",
      "80  PULSES  2004  49.00\n",
      "81  PULSES  2005  52.50\n",
      "82  PULSES  2006  55.70\n",
      "83  PULSES  2007  53.22\n",
      "84  PULSES  2008  47.00\n",
      "85  PULSES  2009  55.00\n",
      "86  PULSES  2010  62.00\n",
      "87  PULSES  2011  55.00\n",
      "88  PULSES  2012  50.00\n",
      "89  PULSES  2013  52.00\n",
      "90  PULSES  2014  58.00\n",
      "91  PULSES  2015  62.00\n",
      "92  PULSES  2016  65.00\n",
      "93  PULSES  2017  70.00\n",
      "94  PULSES  2018  77.00\n",
      "95  PULSES  2019  80.00\n",
      "SOYABEAN\n",
      "        crop  year   cost\n",
      "32  SOYABEAN  2004  19.00\n",
      "33  SOYABEAN  2005  22.50\n",
      "34  SOYABEAN  2006  20.00\n",
      "35  SOYABEAN  2007  25.00\n",
      "36  SOYABEAN  2008  25.76\n",
      "37  SOYABEAN  2009  26.00\n",
      "38  SOYABEAN  2010  28.00\n",
      "39  SOYABEAN  2011  29.00\n",
      "40  SOYABEAN  2012  29.50\n",
      "41  SOYABEAN  2013  30.00\n",
      "42  SOYABEAN  2014  33.00\n",
      "43  SOYABEAN  2015  32.00\n",
      "44  SOYABEAN  2016  35.00\n",
      "45  SOYABEAN  2017  39.00\n",
      "46  SOYABEAN  2018  37.00\n",
      "47  SOYABEAN  2019  40.00\n",
      "TEA\n",
      "    crop  year   cost\n",
      "112  TEA  2004  250.0\n",
      "113  TEA  2005  270.0\n",
      "114  TEA  2006  288.0\n",
      "115  TEA  2007  290.0\n",
      "116  TEA  2008  292.0\n",
      "117  TEA  2009  280.0\n",
      "118  TEA  2010  300.0\n",
      "119  TEA  2011  320.0\n",
      "120  TEA  2012  342.0\n",
      "121  TEA  2013  330.0\n",
      "122  TEA  2014  310.0\n",
      "123  TEA  2015  320.0\n",
      "124  TEA  2016  330.0\n",
      "125  TEA  2017  350.0\n",
      "126  TEA  2018  380.0\n",
      "127  TEA  2019  400.0\n",
      "WHEAT\n",
      "     crop  year  cost\n",
      "0   WHEAT  2004   5.0\n",
      "1   WHEAT  2005   5.5\n",
      "2   WHEAT  2006   8.0\n",
      "3   WHEAT  2007   7.5\n",
      "4   WHEAT  2008   8.5\n",
      "5   WHEAT  2009  10.0\n",
      "6   WHEAT  2010  12.0\n",
      "7   WHEAT  2011  12.4\n",
      "8   WHEAT  2012  14.0\n",
      "9   WHEAT  2013  13.5\n",
      "10  WHEAT  2014  15.0\n",
      "11  WHEAT  2015  16.5\n",
      "12  WHEAT  2016  17.0\n",
      "13  WHEAT  2017  20.0\n",
      "14  WHEAT  2018  18.2\n",
      "15  WHEAT  2019  19.0\n"
     ]
    }
   ],
   "source": [
    "for crop,crop_df in g:\n",
    "    print(crop)\n",
    "    print(crop_df)"
   ]
  },
  {
   "cell_type": "code",
   "execution_count": 167,
   "metadata": {},
   "outputs": [],
   "source": [
    "df_cotton=g.get_group('COTTON')\n",
    "df_maize=g.get_group('MAIZE')\n",
    "df_onion=g.get_group('ONION')\n",
    "df_pepper=g.get_group('PEPPER')\n",
    "df_pulses=g.get_group('PULSES')\n",
    "df_soyabean=g.get_group('SOYABEAN')\n",
    "df_tea=g.get_group('TEA')\n",
    "df_wheat=g.get_group('WHEAT')\n"
   ]
  },
  {
   "cell_type": "code",
   "execution_count": 168,
   "metadata": {},
   "outputs": [],
   "source": [
    "pred=np.asarray(2019).reshape(1,-1)"
   ]
  },
  {
   "cell_type": "markdown",
   "metadata": {},
   "source": [
    "## Cotton"
   ]
  },
  {
   "cell_type": "code",
   "execution_count": 169,
   "metadata": {},
   "outputs": [],
   "source": [
    "ct=linear_model.LinearRegression()"
   ]
  },
  {
   "cell_type": "code",
   "execution_count": 170,
   "metadata": {},
   "outputs": [],
   "source": [
    "cot_year = np.asarray(df_cotton['year']).reshape(-1,1)\n",
    "cot_cost = np.asarray(df_cotton['cost']).reshape(-1,1)"
   ]
  },
  {
   "cell_type": "code",
   "execution_count": 171,
   "metadata": {},
   "outputs": [
    {
     "data": {
      "text/plain": [
       "LinearRegression(copy_X=True, fit_intercept=True, n_jobs=None,\n",
       "         normalize=False)"
      ]
     },
     "execution_count": 171,
     "metadata": {},
     "output_type": "execute_result"
    }
   ],
   "source": [
    "ct.fit(cot_year,cot_cost)"
   ]
  },
  {
   "cell_type": "code",
   "execution_count": 172,
   "metadata": {},
   "outputs": [],
   "source": [
    "cotton_price=ct.predict(pred)"
   ]
  },
  {
   "cell_type": "markdown",
   "metadata": {},
   "source": [
    "## Maize"
   ]
  },
  {
   "cell_type": "code",
   "execution_count": 173,
   "metadata": {},
   "outputs": [],
   "source": [
    "mz=linear_model.LinearRegression(copy_X=True, fit_intercept=True, n_jobs=None,\n",
    "         normalize=True)"
   ]
  },
  {
   "cell_type": "code",
   "execution_count": 174,
   "metadata": {},
   "outputs": [],
   "source": [
    "maz_year = np.asarray(df_maize['year']).reshape(-1,1)\n",
    "maz_cost = np.asarray(df_maize['cost']).reshape(-1,1)"
   ]
  },
  {
   "cell_type": "code",
   "execution_count": 175,
   "metadata": {},
   "outputs": [
    {
     "data": {
      "text/plain": [
       "LinearRegression(copy_X=True, fit_intercept=True, n_jobs=None, normalize=True)"
      ]
     },
     "execution_count": 175,
     "metadata": {},
     "output_type": "execute_result"
    }
   ],
   "source": [
    "mz.fit(maz_year,maz_cost)"
   ]
  },
  {
   "cell_type": "code",
   "execution_count": 176,
   "metadata": {},
   "outputs": [],
   "source": [
    "maize_price=mz.predict(pred)"
   ]
  },
  {
   "cell_type": "markdown",
   "metadata": {},
   "source": [
    "## Onion"
   ]
  },
  {
   "cell_type": "code",
   "execution_count": 177,
   "metadata": {},
   "outputs": [],
   "source": [
    "on=linear_model.LinearRegression()"
   ]
  },
  {
   "cell_type": "code",
   "execution_count": 178,
   "metadata": {},
   "outputs": [],
   "source": [
    "on_year = np.asarray(df_onion['year']).reshape(-1,1)\n",
    "on_cost = np.asarray(df_onion['cost']).reshape(-1,1)"
   ]
  },
  {
   "cell_type": "code",
   "execution_count": 179,
   "metadata": {},
   "outputs": [
    {
     "data": {
      "text/plain": [
       "LinearRegression(copy_X=True, fit_intercept=True, n_jobs=None,\n",
       "         normalize=False)"
      ]
     },
     "execution_count": 179,
     "metadata": {},
     "output_type": "execute_result"
    }
   ],
   "source": [
    "on.fit(on_year,on_cost)"
   ]
  },
  {
   "cell_type": "code",
   "execution_count": 180,
   "metadata": {},
   "outputs": [],
   "source": [
    "onion_price=on.predict(pred)"
   ]
  },
  {
   "cell_type": "markdown",
   "metadata": {},
   "source": [
    "## Pepper"
   ]
  },
  {
   "cell_type": "code",
   "execution_count": 181,
   "metadata": {},
   "outputs": [],
   "source": [
    "pp=linear_model.LinearRegression(copy_X=True, fit_intercept=True, n_jobs=None,\n",
    "         normalize=True)"
   ]
  },
  {
   "cell_type": "code",
   "execution_count": 182,
   "metadata": {},
   "outputs": [],
   "source": [
    "pp_year = np.asarray(df_pepper['year']).reshape(-1,1)\n",
    "pp_cost = np.asarray(df_pepper['cost']).reshape(-1,1)"
   ]
  },
  {
   "cell_type": "code",
   "execution_count": 183,
   "metadata": {},
   "outputs": [
    {
     "data": {
      "text/plain": [
       "LinearRegression(copy_X=True, fit_intercept=True, n_jobs=None, normalize=True)"
      ]
     },
     "execution_count": 183,
     "metadata": {},
     "output_type": "execute_result"
    }
   ],
   "source": [
    "pp.fit(pp_year,pp_cost)"
   ]
  },
  {
   "cell_type": "code",
   "execution_count": 184,
   "metadata": {},
   "outputs": [],
   "source": [
    "pepper_price=pp.predict(pred)"
   ]
  },
  {
   "cell_type": "markdown",
   "metadata": {},
   "source": [
    "## Pulses"
   ]
  },
  {
   "cell_type": "code",
   "execution_count": 185,
   "metadata": {},
   "outputs": [],
   "source": [
    "pl=linear_model.LinearRegression(copy_X=True, fit_intercept=True, n_jobs=None,\n",
    "         normalize=True)"
   ]
  },
  {
   "cell_type": "code",
   "execution_count": 186,
   "metadata": {},
   "outputs": [],
   "source": [
    "pl_year = np.asarray(df_pulses['year']).reshape(-1,1)\n",
    "pl_cost = np.asarray(df_pulses['cost']).reshape(-1,1)"
   ]
  },
  {
   "cell_type": "code",
   "execution_count": 187,
   "metadata": {},
   "outputs": [
    {
     "data": {
      "text/plain": [
       "LinearRegression(copy_X=True, fit_intercept=True, n_jobs=None, normalize=True)"
      ]
     },
     "execution_count": 187,
     "metadata": {},
     "output_type": "execute_result"
    }
   ],
   "source": [
    "pl.fit(pl_year,pl_cost)"
   ]
  },
  {
   "cell_type": "code",
   "execution_count": 188,
   "metadata": {},
   "outputs": [],
   "source": [
    "pulses_price=pl.predict(pred)"
   ]
  },
  {
   "cell_type": "markdown",
   "metadata": {},
   "source": [
    "## Soyabean"
   ]
  },
  {
   "cell_type": "code",
   "execution_count": 189,
   "metadata": {},
   "outputs": [],
   "source": [
    "sb=linear_model.LinearRegression(copy_X=True, fit_intercept=True, n_jobs=None,\n",
    "         normalize=True)"
   ]
  },
  {
   "cell_type": "code",
   "execution_count": 190,
   "metadata": {},
   "outputs": [],
   "source": [
    "sb_year = np.asarray(df_soyabean['year']).reshape(-1,1)\n",
    "sb_cost = np.asarray(df_soyabean['cost']).reshape(-1,1)"
   ]
  },
  {
   "cell_type": "code",
   "execution_count": 191,
   "metadata": {},
   "outputs": [
    {
     "data": {
      "text/plain": [
       "LinearRegression(copy_X=True, fit_intercept=True, n_jobs=None, normalize=True)"
      ]
     },
     "execution_count": 191,
     "metadata": {},
     "output_type": "execute_result"
    }
   ],
   "source": [
    "sb.fit(sb_year,sb_cost)"
   ]
  },
  {
   "cell_type": "code",
   "execution_count": 192,
   "metadata": {},
   "outputs": [],
   "source": [
    "soyabean_price=sb.predict(pred)"
   ]
  },
  {
   "cell_type": "markdown",
   "metadata": {},
   "source": [
    "## Tea"
   ]
  },
  {
   "cell_type": "code",
   "execution_count": 193,
   "metadata": {},
   "outputs": [],
   "source": [
    "tea=linear_model.LinearRegression(copy_X=True, fit_intercept=True, n_jobs=None,\n",
    "         normalize=True)"
   ]
  },
  {
   "cell_type": "code",
   "execution_count": 194,
   "metadata": {},
   "outputs": [],
   "source": [
    "tea_year = np.asarray(df_tea['year']).reshape(-1,1)\n",
    "tea_cost = np.asarray(df_tea['cost']).reshape(-1,1)"
   ]
  },
  {
   "cell_type": "code",
   "execution_count": 195,
   "metadata": {},
   "outputs": [
    {
     "data": {
      "text/plain": [
       "LinearRegression(copy_X=True, fit_intercept=True, n_jobs=None, normalize=True)"
      ]
     },
     "execution_count": 195,
     "metadata": {},
     "output_type": "execute_result"
    }
   ],
   "source": [
    "tea.fit(tea_year,tea_cost)"
   ]
  },
  {
   "cell_type": "code",
   "execution_count": 196,
   "metadata": {},
   "outputs": [],
   "source": [
    "tea_price=tea.predict(pred)"
   ]
  },
  {
   "cell_type": "markdown",
   "metadata": {},
   "source": [
    "## Wheat"
   ]
  },
  {
   "cell_type": "code",
   "execution_count": 197,
   "metadata": {},
   "outputs": [],
   "source": [
    "wh=linear_model.LinearRegression(copy_X=True, fit_intercept=True, n_jobs=None,\n",
    "         normalize=True)"
   ]
  },
  {
   "cell_type": "code",
   "execution_count": 198,
   "metadata": {},
   "outputs": [],
   "source": [
    "wh_year = np.asarray(df_wheat['year']).reshape(-1,1)\n",
    "wh_cost = np.asarray(df_wheat['cost']).reshape(-1,1)"
   ]
  },
  {
   "cell_type": "code",
   "execution_count": 199,
   "metadata": {},
   "outputs": [
    {
     "data": {
      "text/plain": [
       "LinearRegression(copy_X=True, fit_intercept=True, n_jobs=None, normalize=True)"
      ]
     },
     "execution_count": 199,
     "metadata": {},
     "output_type": "execute_result"
    }
   ],
   "source": [
    "wh.fit(wh_year,wh_cost)"
   ]
  },
  {
   "cell_type": "code",
   "execution_count": 200,
   "metadata": {},
   "outputs": [],
   "source": [
    "wheat_price=wh.predict(pred)"
   ]
  },
  {
   "cell_type": "code",
   "execution_count": 201,
   "metadata": {},
   "outputs": [],
   "source": [
    "lst=[cotton_price,maize_price,onion_price,pepper_price,pulses_price,soyabean_price,tea_price,wheat_price]"
   ]
  },
  {
   "cell_type": "code",
   "execution_count": null,
   "metadata": {},
   "outputs": [],
   "source": []
  },
  {
   "cell_type": "code",
   "execution_count": 204,
   "metadata": {},
   "outputs": [
    {
     "name": "stdout",
     "output_type": "stream",
     "text": [
      "75 35 [[2019]]\n"
     ]
    }
   ],
   "source": [
    "print(moisture, temperature, pred)"
   ]
  },
  {
   "cell_type": "code",
   "execution_count": 205,
   "metadata": {},
   "outputs": [],
   "source": [
    "crops = []"
   ]
  },
  {
   "cell_type": "code",
   "execution_count": 206,
   "metadata": {},
   "outputs": [
    {
     "name": "stdout",
     "output_type": "stream",
     "text": [
      "['Wheat', 'Maize', 'Soybean']\n",
      "Wheat Price : \n",
      "[[20.12794118]]\n",
      "Maize Price : \n",
      "[[16.83602941]]\n",
      "Soybeans Price : \n",
      "[[39.21308824]]\n"
     ]
    }
   ],
   "source": [
    "if(moisture > 70 and temperature > 32):\n",
    "    crops.append(\"Wheat\")\n",
    "    crops.append(\"Maize\")\n",
    "    crops.append(\"Soybean\")\n",
    "\n",
    "    print(crops)\n",
    "    print(\"Wheat Price : \")\n",
    "    print(wheat_price)\n",
    "    print(\"Maize Price : \" )\n",
    "    print(maize_price)\n",
    "    print(\"Soybeans Price : \")\n",
    "    print(soyabean_price)"
   ]
  },
  {
   "cell_type": "code",
   "execution_count": 207,
   "metadata": {},
   "outputs": [],
   "source": [
    "if(moisture > 70 and temperature < 32):\n",
    "    crops.append(\"Tea\")\n",
    "    crops.append(\"Cotton\")\n",
    "    \n",
    "    print(crops)\n",
    "    \n",
    "    print(\"Tea Cost : \")\n",
    "    print(tea_price)\n",
    "    print(\"Cotton Cost : \" )\n",
    "    print(cotton_price)"
   ]
  },
  {
   "cell_type": "code",
   "execution_count": 208,
   "metadata": {},
   "outputs": [],
   "source": [
    "if(moisture < 70 and temperature < 32):\n",
    "    crops.append(\"Black pepper\")\n",
    "    crops.append(\"Pulses\")\n",
    "    crops.append(\"Onions\")\n",
    "    print(crops)\n",
    "    \n",
    "    print(\"Pepper Profit : \")\n",
    "    print(pepper_price)\n",
    "    print(\"Pulses Price : \" )\n",
    "    print(pulses_price)\n",
    "    print(\"Onions Price : \")\n",
    "    print(onions_price)"
   ]
  },
  {
   "cell_type": "code",
   "execution_count": null,
   "metadata": {},
   "outputs": [],
   "source": []
  },
  {
   "cell_type": "code",
   "execution_count": null,
   "metadata": {},
   "outputs": [],
   "source": []
  }
 ],
 "metadata": {
  "kernelspec": {
   "display_name": "Python 3",
   "language": "python",
   "name": "python3"
  },
  "language_info": {
   "codemirror_mode": {
    "name": "ipython",
    "version": 3
   },
   "file_extension": ".py",
   "mimetype": "text/x-python",
   "name": "python",
   "nbconvert_exporter": "python",
   "pygments_lexer": "ipython3",
   "version": "3.6.5"
  }
 },
 "nbformat": 4,
 "nbformat_minor": 2
}
